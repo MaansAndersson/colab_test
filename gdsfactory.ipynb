{
  "nbformat": 4,
  "nbformat_minor": 0,
  "metadata": {
    "colab": {
      "provenance": [],
      "authorship_tag": "ABX9TyOTyko5UvHIXmjxIkiwwKaL",
      "include_colab_link": true
    },
    "kernelspec": {
      "name": "python3",
      "display_name": "Python 3"
    },
    "language_info": {
      "name": "python"
    }
  },
  "cells": [
    {
      "cell_type": "markdown",
      "metadata": {
        "id": "view-in-github",
        "colab_type": "text"
      },
      "source": [
        "<a href=\"https://colab.research.google.com/github/MaansAndersson/colab_test/blob/main/gdsfactory.ipynb\" target=\"_parent\"><img src=\"https://colab.research.google.com/assets/colab-badge.svg\" alt=\"Open In Colab\"/></a>"
      ]
    },
    {
      "cell_type": "code",
      "execution_count": null,
      "metadata": {
        "colab": {
          "base_uri": "https://localhost:8080/"
        },
        "id": "fI9Roe8NykB8",
        "outputId": "3d79647a-7088-45de-c870-7aa74129ad8f"
      },
      "outputs": [
        {
          "output_type": "stream",
          "name": "stdout",
          "text": [
            "Looking in indexes: https://pypi.org/simple, https://us-python.pkg.dev/colab-wheels/public/simple/\n",
            "Requirement already satisfied: gdsfactory in /usr/local/lib/python3.7/dist-packages (5.13.0)\n",
            "Requirement already satisfied: xmltodict in /usr/local/lib/python3.7/dist-packages (from gdsfactory) (0.13.0)\n",
            "Requirement already satisfied: typing-extensions in /usr/local/lib/python3.7/dist-packages (from gdsfactory) (4.1.1)\n",
            "Requirement already satisfied: pytest-regressions in /usr/local/lib/python3.7/dist-packages (from gdsfactory) (2.3.1)\n",
            "Requirement already satisfied: pytest in /usr/local/lib/python3.7/dist-packages (from gdsfactory) (3.6.4)\n",
            "Requirement already satisfied: jsondiff in /usr/local/lib/python3.7/dist-packages (from gdsfactory) (2.0.0)\n",
            "Requirement already satisfied: scipy in /usr/local/lib/python3.7/dist-packages (from gdsfactory) (1.7.3)\n",
            "Requirement already satisfied: pyyaml in /usr/local/lib/python3.7/dist-packages (from gdsfactory) (6.0)\n",
            "Requirement already satisfied: picwriter==0.5 in /usr/local/lib/python3.7/dist-packages (from gdsfactory) (0.5)\n",
            "Requirement already satisfied: shapely in /usr/local/lib/python3.7/dist-packages (from gdsfactory) (1.8.2)\n",
            "Requirement already satisfied: flatdict in /usr/local/lib/python3.7/dist-packages (from gdsfactory) (4.0.1)\n",
            "Requirement already satisfied: omegaconf in /usr/local/lib/python3.7/dist-packages (from gdsfactory) (2.2.2)\n",
            "Requirement already satisfied: rectpack in /usr/local/lib/python3.7/dist-packages (from gdsfactory) (0.2.2)\n",
            "Requirement already satisfied: matplotlib in /usr/local/lib/python3.7/dist-packages (from gdsfactory) (3.2.2)\n",
            "Requirement already satisfied: pydantic in /usr/local/lib/python3.7/dist-packages (from gdsfactory) (1.9.1)\n",
            "Requirement already satisfied: loguru in /usr/local/lib/python3.7/dist-packages (from gdsfactory) (0.6.0)\n",
            "Requirement already satisfied: phidl==1.6.2 in /usr/local/lib/python3.7/dist-packages (from gdsfactory) (1.6.2)\n",
            "Requirement already satisfied: numpy in /usr/local/lib/python3.7/dist-packages (from gdsfactory) (1.21.6)\n",
            "Requirement already satisfied: types-PyYAML in /usr/local/lib/python3.7/dist-packages (from gdsfactory) (6.0.11)\n",
            "Requirement already satisfied: watchdog in /usr/local/lib/python3.7/dist-packages (from gdsfactory) (2.1.9)\n",
            "Requirement already satisfied: tqdm in /usr/local/lib/python3.7/dist-packages (from gdsfactory) (4.64.0)\n",
            "Requirement already satisfied: gdspy in /usr/local/lib/python3.7/dist-packages (from gdsfactory) (1.6.12)\n",
            "Requirement already satisfied: toolz in /usr/local/lib/python3.7/dist-packages (from gdsfactory) (0.12.0)\n",
            "Requirement already satisfied: pandas in /usr/local/lib/python3.7/dist-packages (from gdsfactory) (1.3.5)\n",
            "Requirement already satisfied: orjson in /usr/local/lib/python3.7/dist-packages (from gdsfactory) (3.7.8)\n",
            "Requirement already satisfied: qrcode in /usr/local/lib/python3.7/dist-packages (from gdsfactory) (7.3.1)\n",
            "Requirement already satisfied: click in /usr/local/lib/python3.7/dist-packages (from gdsfactory) (7.1.2)\n",
            "Requirement already satisfied: kiwisolver>=1.0.1 in /usr/local/lib/python3.7/dist-packages (from matplotlib->gdsfactory) (1.4.4)\n",
            "Requirement already satisfied: python-dateutil>=2.1 in /usr/local/lib/python3.7/dist-packages (from matplotlib->gdsfactory) (2.8.2)\n",
            "Requirement already satisfied: cycler>=0.10 in /usr/local/lib/python3.7/dist-packages (from matplotlib->gdsfactory) (0.11.0)\n",
            "Requirement already satisfied: pyparsing!=2.0.4,!=2.1.2,!=2.1.6,>=2.0.1 in /usr/local/lib/python3.7/dist-packages (from matplotlib->gdsfactory) (3.0.9)\n",
            "Requirement already satisfied: six>=1.5 in /usr/local/lib/python3.7/dist-packages (from python-dateutil>=2.1->matplotlib->gdsfactory) (1.15.0)\n",
            "Requirement already satisfied: antlr4-python3-runtime==4.9.* in /usr/local/lib/python3.7/dist-packages (from omegaconf->gdsfactory) (4.9.3)\n",
            "Requirement already satisfied: pytz>=2017.3 in /usr/local/lib/python3.7/dist-packages (from pandas->gdsfactory) (2022.1)\n",
            "Requirement already satisfied: more-itertools>=4.0.0 in /usr/local/lib/python3.7/dist-packages (from pytest->gdsfactory) (8.13.0)\n",
            "Requirement already satisfied: pluggy<0.8,>=0.5 in /usr/local/lib/python3.7/dist-packages (from pytest->gdsfactory) (0.7.1)\n",
            "Requirement already satisfied: attrs>=17.4.0 in /usr/local/lib/python3.7/dist-packages (from pytest->gdsfactory) (21.4.0)\n",
            "Requirement already satisfied: atomicwrites>=1.0 in /usr/local/lib/python3.7/dist-packages (from pytest->gdsfactory) (1.4.1)\n",
            "Requirement already satisfied: py>=1.5.0 in /usr/local/lib/python3.7/dist-packages (from pytest->gdsfactory) (1.11.0)\n",
            "Requirement already satisfied: setuptools in /usr/local/lib/python3.7/dist-packages (from pytest->gdsfactory) (57.4.0)\n",
            "Requirement already satisfied: pytest-datadir>=1.2.0 in /usr/local/lib/python3.7/dist-packages (from pytest-regressions->gdsfactory) (1.3.1)\n"
          ]
        }
      ],
      "source": [
        "!pip install gdsfactory"
      ]
    },
    {
      "cell_type": "code",
      "source": [
        "import gdsfactory as gf"
      ],
      "metadata": {
        "colab": {
          "base_uri": "https://localhost:8080/"
        },
        "id": "wCzekObIylV6",
        "outputId": "ed0e488e-370f-494c-8d7c-675364906bc6"
      },
      "execution_count": null,
      "outputs": [
        {
          "output_type": "stream",
          "name": "stderr",
          "text": [
            "2022-07-27 13:15:08.181 | INFO     | gdsfactory.config:<module>:52 - Load '/usr/local/lib/python3.7/dist-packages/gdsfactory' 5.13.0\n"
          ]
        }
      ]
    },
    {
      "cell_type": "code",
      "source": [
        "@gf.cell \n",
        "def func():\n",
        "  return 0"
      ],
      "metadata": {
        "id": "lPwFonwIy-7a"
      },
      "execution_count": null,
      "outputs": []
    },
    {
      "cell_type": "code",
      "source": [
        "import gdsfactory as gf\n",
        "\n",
        "gf.CONF.plotter = \"holoviews\"\n",
        "\n",
        "c = gf.Component(name=\"my_fist_class\")\n",
        "c.add_polygon([(-8, 6, 7, 9), (-6, 8, 17, 5)], layer=(1, 0))\n",
        "c"
      ],
      "metadata": {
        "colab": {
          "base_uri": "https://localhost:8080/",
          "height": 282
        },
        "id": "5gqvBIYz1m7F",
        "outputId": "1c437508-f9c3-43d9-cc8a-4b9bb7ea12ac"
      },
      "execution_count": null,
      "outputs": [
        {
          "output_type": "display_data",
          "data": {
            "text/plain": [
              "<Figure size 432x288 with 1 Axes>"
            ],
            "image/png": "[encoded data removed]"
          },
          "metadata": {
            "needs_background": "light"
          }
        },
        {
          "output_type": "execute_result",
          "data": {
            "text/plain": [
              "my_fist_class: uid 0, ports [], aliases [], 1 polygons, 0 references"
            ],
            "text/html": [
              "my_fist_class: uid 0, ports [], aliases [], 1 polygons, 0 references"
            ]
          },
          "metadata": {},
          "execution_count": 7
        }
      ]
    },
    {
      "cell_type": "code",
      "source": [
        "c = gf.Component(\"ref_mirror\")\n",
        "mmi = c.add_ref(gf.components.mmi1x2())\n",
        "bend = c.add_ref(gf.components.bend_circular(layer=(2, 0)))\n",
        "c"
      ],
      "metadata": {
        "colab": {
          "base_uri": "https://localhost:8080/",
          "height": 282
        },
        "id": "ctJoO9Za2JhC",
        "outputId": "2e6bc8ed-1a72-460d-ded5-f990006de5c0"
      },
      "execution_count": null,
      "outputs": [
        {
          "output_type": "display_data",
          "data": {
            "text/plain": [
              "<Figure size 432x288 with 1 Axes>"
            ],
            "image/png": "[encoded data removed]"
          },
          "metadata": {
            "needs_background": "light"
          }
        },
        {
          "output_type": "execute_result",
          "data": {
            "text/plain": [
              "ref_mirror: uid 1, ports [], aliases [], 0 polygons, 2 references"
            ],
            "text/html": [
              "ref_mirror: uid 1, ports [], aliases [], 0 polygons, 2 references"
            ]
          },
          "metadata": {},
          "execution_count": 9
        }
      ]
    }
  ]
}