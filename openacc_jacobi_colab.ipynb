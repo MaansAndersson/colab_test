{
  "cells": [
    {
      "cell_type": "markdown",
      "metadata": {
        "id": "view-in-github",
        "colab_type": "text"
      },
      "source": [
        "<a href=\"https://colab.research.google.com/github/MaansAndersson/colab_test/blob/main/openacc_jacobi_colab.ipynb\" target=\"_parent\"><img src=\"https://colab.research.google.com/assets/colab-badge.svg\" alt=\"Open In Colab\"/></a>"
      ]
    },
    {
      "cell_type": "markdown",
      "metadata": {
        "id": "D6BqLpZjlzBM"
      },
      "source": [
        "# OpenACC-CUDA workshop"
      ]
    },
    {
      "cell_type": "markdown",
      "metadata": {
        "id": "6WS9YBwSAsnf"
      },
      "source": [
        "## Activate GPU\n",
        "\n",
        "- To get access to a GPU, click on the *Runtime* menu and select *Change runtime type*. Choose GPU as a Hardware accelerator. It might take a minute for your notebook to connect to a GPU.\n",
        "- To check whether a GPU has been connected to your session, run the code cell below with the ``!nvidia-smi`` command by hitting ``SHIFT-ENTER`` on it."
      ]
    },
    {
      "cell_type": "code",
      "execution_count": null,
      "metadata": {
        "id": "dcgTx_OSAwA_",
        "outputId": "01df840a-4619-45ba-8a06-892b65065b0f",
        "colab": {
          "base_uri": "https://localhost:8080/"
        }
      },
      "outputs": [
        {
          "output_type": "stream",
          "name": "stdout",
          "text": [
            "Tue Aug 15 12:38:30 2023       \n",
            "+-----------------------------------------------------------------------------+\n",
            "| NVIDIA-SMI 525.105.17   Driver Version: 525.105.17   CUDA Version: 12.0     |\n",
            "|-------------------------------+----------------------+----------------------+\n",
            "| GPU  Name        Persistence-M| Bus-Id        Disp.A | Volatile Uncorr. ECC |\n",
            "| Fan  Temp  Perf  Pwr:Usage/Cap|         Memory-Usage | GPU-Util  Compute M. |\n",
            "|                               |                      |               MIG M. |\n",
            "|===============================+======================+======================|\n",
            "|   0  Tesla T4            Off  | 00000000:00:04.0 Off |                    0 |\n",
            "| N/A   61C    P8    11W /  70W |      0MiB / 15360MiB |      0%      Default |\n",
            "|                               |                      |                  N/A |\n",
            "+-------------------------------+----------------------+----------------------+\n",
            "                                                                               \n",
            "+-----------------------------------------------------------------------------+\n",
            "| Processes:                                                                  |\n",
            "|  GPU   GI   CI        PID   Type   Process name                  GPU Memory |\n",
            "|        ID   ID                                                   Usage      |\n",
            "|=============================================================================|\n",
            "|  No running processes found                                                 |\n",
            "+-----------------------------------------------------------------------------+\n"
          ]
        }
      ],
      "source": [
        "!nvidia-smi"
      ]
    },
    {
      "cell_type": "code",
      "source": [
        "%%writefile jacobi_serial.c\n",
        "/* Copyright (c) 2012, NVIDIA CORPORATION. All rights reserved.\n",
        " *\n",
        " * Redistribution and use in source and binary forms, with or without\n",
        " * modification, are permitted provided that the following conditions\n",
        " * are met:\n",
        " *  * Redistributions of source code must retain the above copyright\n",
        " *    notice, this list of conditions and the following disclaimer.\n",
        " *  * Redistributions in binary form must reproduce the above copyright\n",
        " *    notice, this list of conditions and the following disclaimer in the\n",
        " *    documentation and/or other materials provided with the distribution.\n",
        " *  * Neither the name of NVIDIA CORPORATION nor the names of its\n",
        " *    contributors may be used to endorse or promote products derived\n",
        " *    from this software without specific prior written permission.\n",
        " *\n",
        " * THIS SOFTWARE IS PROVIDED BY THE COPYRIGHT HOLDERS AS IS'' AND ANY\n",
        " * EXPRESS OR IMPLIED WARRANTIES, INCLUDING, BUT NOT LIMITED TO, THE\n",
        " * IMPLIED WARRANTIES OF MERCHANTABILITY AND FITNESS FOR A PARTICULAR\n",
        " * PURPOSE ARE DISCLAIMED.  IN NO EVENT SHALL THE COPYRIGHT OWNER OR\n",
        " * CONTRIBUTORS BE LIABLE FOR ANY DIRECT, INDIRECT, INCIDENTAL, SPECIAL,\n",
        " * EXEMPLARY, OR CONSEQUENTIAL DAMAGES (INCLUDING, BUT NOT LIMITED TO,\n",
        " * PROCUREMENT OF SUBSTITUTE GOODS OR SERVICES; LOSS OF USE, DATA, OR\n",
        " * PROFITS; OR BUSINESS INTERRUPTION) HOWEVER CAUSED AND ON ANY THEORY\n",
        " * OF LIABILITY, WHETHER IN CONTRACT, STRICT LIABILITY, OR TORT\n",
        " * (INCLUDING NEGLIGENCE OR OTHERWISE) ARISING IN ANY WAY OUT OF THE USE\n",
        " * OF THIS SOFTWARE, EVEN IF ADVISED OF THE POSSIBILITY OF SUCH DAMAGE.\n",
        " */\n",
        "\n",
        "#include <string.h>\n",
        "#include <stdio.h>\n",
        "#include <stdlib.h>\n",
        "#include <omp.h>\n",
        "#include <math.h>\n",
        "#include <stdlib.h>\n",
        "\n",
        "#define OFFSET(x, y, m) (((x)*(m)) + (y))\n",
        "\n",
        "\n",
        "\n",
        "void initialize(double *restrict A, double *restrict Anew, int m, int n)\n",
        "{\n",
        "    memset(A, 0, n * m * sizeof(double));\n",
        "    memset(Anew, 0, n * m * sizeof(double));\n",
        "\n",
        "    for(int i = 0; i < m; i++){\n",
        "        A[i] = 1.0;\n",
        "        Anew[i] = 1.0;\n",
        "    }\n",
        "}\n",
        "\n",
        "double calcNext(double *restrict A, double *restrict Anew, int m, int n)\n",
        "{\n",
        "    double error = 0.0;\n",
        "\n",
        "    for( int j = 1; j < n-1; j++)\n",
        "    {\n",
        "        for( int i = 1; i < m-1; i++ )\n",
        "        {\n",
        "            Anew[OFFSET(j, i, m)] = 0.25 * ( A[OFFSET(j, i+1, m)] + A[OFFSET(j, i-1, m)]\n",
        "                                           + A[OFFSET(j-1, i, m)] + A[OFFSET(j+1, i, m)]);\n",
        "            if (error < fabs(Anew[OFFSET(j, i, m)] - A[OFFSET(j, i , m)]))\n",
        "              error = (fabs(Anew[OFFSET(j, i, m)] - A[OFFSET(j, i , m)]));\n",
        "        }\n",
        "    }\n",
        "    return error;\n",
        "}\n",
        "\n",
        "void swap(double *restrict A, double *restrict Anew, int m, int n)\n",
        "{\n",
        "    for( int j = 1; j < n-1; j++)\n",
        "    {\n",
        "        for( int i = 1; i < m-1; i++ )\n",
        "        {\n",
        "            A[OFFSET(j, i, m)] = Anew[OFFSET(j, i, m)];\n",
        "        }\n",
        "    }\n",
        "}\n",
        "\n",
        "void deallocate(double *restrict A, double *restrict Anew)\n",
        "{\n",
        "    free(A);\n",
        "    free(Anew);\n",
        "}\n",
        "\n",
        "\n",
        "int main(int argc, char** argv)\n",
        "{\n",
        "\n",
        "    int n, m, iter_max;\n",
        "\n",
        "    if(argc > 1){\n",
        "        n = atoi(argv[1]);\n",
        "    } else {\n",
        "        n = 4096;\n",
        "    }\n",
        "\n",
        "    if(argc > 2){\n",
        "        m = atoi(argv[2]);\n",
        "    } else {\n",
        "        m = 4096;\n",
        "    }\n",
        "\n",
        "    if(argc > 3){\n",
        "        iter_max = atoi(argv[3]);\n",
        "    } else {\n",
        "        iter_max = 1000;\n",
        "    }\n",
        "\n",
        "    const double tol = 1.0e-6;\n",
        "    double error = 1.0;\n",
        "\n",
        "    double *restrict A    = (double*)malloc(sizeof(double)*n*m);\n",
        "    double *restrict Anew = (double*)malloc(sizeof(double)*n*m);\n",
        "\n",
        "    initialize(A, Anew, m, n);\n",
        "\n",
        "    printf(\"Jacobi relaxation Calculation: %d x %d mesh\\n\", n, m);\n",
        "\n",
        "    double st = omp_get_wtime();\n",
        "    int iter = 0;\n",
        "\n",
        "    while ( error > tol && iter < iter_max )\n",
        "    {\n",
        "        error = calcNext(A, Anew, m, n);\n",
        "        swap(A, Anew, m, n);\n",
        "\n",
        "        //if(iter % 100 == 0) printf(\"%5d, %0.6f\\n\", iter, error);\n",
        "\n",
        "        iter++;\n",
        "\n",
        "    }\n",
        "\n",
        "    double runtime = omp_get_wtime() - st;\n",
        "\n",
        "    printf(\" total: %f s\\n\", runtime);\n",
        "\n",
        "    deallocate(A, Anew);\n",
        "\n",
        "    return 0;\n",
        "}\n",
        "\n"
      ],
      "metadata": {
        "id": "32pg25kVTzKo",
        "outputId": "8e5fc40b-9fbe-4009-e431-729f150ab2e3",
        "colab": {
          "base_uri": "https://localhost:8080/"
        }
      },
      "execution_count": null,
      "outputs": [
        {
          "output_type": "stream",
          "name": "stdout",
          "text": [
            "Overwriting jacobi_serial.c\n"
          ]
        }
      ]
    },
    {
      "cell_type": "code",
      "source": [
        "!gcc -fopenacc -o jacobi_serial jacobi_serial.c"
      ],
      "metadata": {
        "id": "qoEFQzqdUEXd"
      },
      "execution_count": null,
      "outputs": []
    },
    {
      "cell_type": "code",
      "source": [
        "!./jacobi_serial"
      ],
      "metadata": {
        "id": "iBVMASMiUQX7",
        "outputId": "0a8476e6-7e78-43c0-ed2a-61d8f44dfcb2",
        "colab": {
          "base_uri": "https://localhost:8080/"
        }
      },
      "execution_count": null,
      "outputs": [
        {
          "output_type": "stream",
          "name": "stdout",
          "text": [
            "Jacobi relaxation Calculation: 4096 x 4096 mesh\n"
          ]
        }
      ]
    },
    {
      "cell_type": "code",
      "source": [
        "%%writefile jacobi_acc.c\n",
        "/* Copyright (c) 2012, NVIDIA CORPORATION. All rights reserved.\n",
        " *\n",
        " * Redistribution and use in source and binary forms, with or without\n",
        " * modification, are permitted provided that the following conditions\n",
        " * are met:\n",
        " *  * Redistributions of source code must retain the above copyright\n",
        " *    notice, this list of conditions and the following disclaimer.\n",
        " *  * Redistributions in binary form must reproduce the above copyright\n",
        " *    notice, this list of conditions and the following disclaimer in the\n",
        " *    documentation and/or other materials provided with the distribution.\n",
        " *  * Neither the name of NVIDIA CORPORATION nor the names of its\n",
        " *    contributors may be used to endorse or promote products derived\n",
        " *    from this software without specific prior written permission.\n",
        " *\n",
        " * THIS SOFTWARE IS PROVIDED BY THE COPYRIGHT HOLDERS AS IS'' AND ANY\n",
        " * EXPRESS OR IMPLIED WARRANTIES, INCLUDING, BUT NOT LIMITED TO, THE\n",
        " * IMPLIED WARRANTIES OF MERCHANTABILITY AND FITNESS FOR A PARTICULAR\n",
        " * PURPOSE ARE DISCLAIMED.  IN NO EVENT SHALL THE COPYRIGHT OWNER OR\n",
        " * CONTRIBUTORS BE LIABLE FOR ANY DIRECT, INDIRECT, INCIDENTAL, SPECIAL,\n",
        " * EXEMPLARY, OR CONSEQUENTIAL DAMAGES (INCLUDING, BUT NOT LIMITED TO,\n",
        " * PROCUREMENT OF SUBSTITUTE GOODS OR SERVICES; LOSS OF USE, DATA, OR\n",
        " * PROFITS; OR BUSINESS INTERRUPTION) HOWEVER CAUSED AND ON ANY THEORY\n",
        " * OF LIABILITY, WHETHER IN CONTRACT, STRICT LIABILITY, OR TORT\n",
        " * (INCLUDING NEGLIGENCE OR OTHERWISE) ARISING IN ANY WAY OUT OF THE USE\n",
        " * OF THIS SOFTWARE, EVEN IF ADVISED OF THE POSSIBILITY OF SUCH DAMAGE.\n",
        " */\n",
        "\n",
        "#include <string.h>\n",
        "#include <stdio.h>\n",
        "#include <stdlib.h>\n",
        "#include <omp.h>\n",
        "#include <math.h>\n",
        "\n",
        "#define OFFSET(x, y, m) (((x)*(m)) + (y))\n",
        "\n",
        "void initialize(double *restrict A, double *restrict Anew, int m, int n)\n",
        "{\n",
        "    memset(A, 0, n * m * sizeof(double));\n",
        "    memset(Anew, 0, n * m * sizeof(double));\n",
        "\n",
        "    for(int i = 0; i < m; i++){\n",
        "        A[i] = 1.0;\n",
        "        Anew[i] = 1.0;\n",
        "    }\n",
        "}\n",
        "\n",
        "double calcNext(double *restrict A, double *restrict Anew, int m, int n)\n",
        "{\n",
        "    double error = 0.0;\n",
        "    #pragma acc parallel loop copy(A[:m*n],Anew[:m*n])\n",
        "    for( int j = 1; j < n-1; j++)\n",
        "    {\n",
        "        for( int i = 1; i < m-1; i++ )\n",
        "        {\n",
        "            Anew[OFFSET(j, i, m)] = 0.25 * ( A[OFFSET(j, i+1, m)] + A[OFFSET(j, i-1, m)]\n",
        "                                           + A[OFFSET(j-1, i, m)] + A[OFFSET(j+1, i, m)]);\n",
        "            if (error < fabs(Anew[OFFSET(j, i, m)] - A[OFFSET(j, i , m)]))\n",
        "              error = (fabs(Anew[OFFSET(j, i, m)] - A[OFFSET(j, i , m)]));\n",
        "        }\n",
        "    }\n",
        "    return error;\n",
        "}\n",
        "\n",
        "void swap(double *restrict A, double *restrict Anew, int m, int n)\n",
        "{\n",
        "    #pragma acc parallel loop copy(A[:m*n],Anew[:m*n])\n",
        "    for( int j = 1; j < n-1; j++)\n",
        "    {\n",
        "        for( int i = 1; i < m-1; i++ )\n",
        "        {\n",
        "            A[OFFSET(j, i, m)] = Anew[OFFSET(j, i, m)];\n",
        "        }\n",
        "    }\n",
        "}\n",
        "\n",
        "void deallocate(double *restrict A, double *restrict Anew)\n",
        "{\n",
        "    free(A);\n",
        "    free(Anew);\n",
        "}\n",
        "\n",
        "\n",
        "int main(int argc, char** argv)\n",
        "{\n",
        "\n",
        "    int n, m, iter_max;\n",
        "\n",
        "    if(argc > 1){\n",
        "        n = atoi(argv[1]);\n",
        "    } else {\n",
        "        n = 4096;\n",
        "    }\n",
        "\n",
        "    if(argc > 2){\n",
        "        m = atoi(argv[2]);\n",
        "    } else {\n",
        "        m = 4096;\n",
        "    }\n",
        "\n",
        "    if(argc > 3){\n",
        "        iter_max = atoi(argv[3]);\n",
        "    } else {\n",
        "        iter_max = 1000;\n",
        "    }\n",
        "\n",
        "    const double tol = 1.0e-6;\n",
        "    double error = 1.0;\n",
        "\n",
        "    double *restrict A    = (double*)malloc(sizeof(double)*n*m);\n",
        "    double *restrict Anew = (double*)malloc(sizeof(double)*n*m);\n",
        "\n",
        "    initialize(A, Anew, m, n);\n",
        "\n",
        "    printf(\"Jacobi relaxation Calculation: %d x %d mesh\\n\", n, m);\n",
        "\n",
        "    double st = omp_get_wtime();\n",
        "    int iter = 0;\n",
        "\n",
        "\n",
        "    while ( error > tol && iter < iter_max )\n",
        "    {\n",
        "        error = calcNext(A, Anew, m, n);\n",
        "        swap(A, Anew, m, n);\n",
        "\n",
        "        if(iter % 100 == 0) printf(\"%5d, %0.6f\\n\", iter, error);\n",
        "\n",
        "        iter++;\n",
        "\n",
        "    }\n",
        "\n",
        "    double runtime = omp_get_wtime() - st;\n",
        "\n",
        "    printf(\" total: %f s\\n\", runtime);\n",
        "\n",
        "    deallocate(A, Anew);\n",
        "\n",
        "    return 0;\n",
        "}\n",
        "\n"
      ],
      "metadata": {
        "id": "wJzY9Y36Q-y6",
        "outputId": "be32b545-287d-45da-f438-dd6a0f7b12b7",
        "colab": {
          "base_uri": "https://localhost:8080/"
        }
      },
      "execution_count": null,
      "outputs": [
        {
          "output_type": "stream",
          "name": "stdout",
          "text": [
            "Overwriting test.c\n"
          ]
        }
      ]
    },
    {
      "cell_type": "code",
      "source": [
        "!gcc -fopenacc -o jacobi-accelerated jacobi_acc.c"
      ],
      "metadata": {
        "id": "1WfXctMPN4IC",
        "outputId": "9bc61129-d9f9-46a4-90b0-00562de4549c",
        "colab": {
          "base_uri": "https://localhost:8080/"
        }
      },
      "execution_count": null,
      "outputs": [
        {
          "output_type": "stream",
          "name": "stdout",
          "text": [
            "/root/pdc-summer-school/03-parallel-and-accelerated-computing/jacobi-ACC/2-Parallel_Loop\n"
          ]
        }
      ]
    },
    {
      "cell_type": "code",
      "source": [
        "!./jacobi-accelerated"
      ],
      "metadata": {
        "id": "3cJUdJJgRNGL",
        "outputId": "e7eccc7a-e53d-4097-d3ba-978c70d3ebb4",
        "colab": {
          "base_uri": "https://localhost:8080/"
        }
      },
      "execution_count": null,
      "outputs": [
        {
          "output_type": "stream",
          "name": "stdout",
          "text": [
            "Jacobi relaxation Calculation: 4096 x 4096 mesh\n",
            "    0, 0.000000\n",
            " total: 0.229736 s\n"
          ]
        }
      ]
    },
    {
      "cell_type": "code",
      "source": [
        "%%writefile Parallel_Copy.c\n",
        "\n",
        "/* Copyright (c) 2012, NVIDIA CORPORATION. All rights reserved.\n",
        " *\n",
        " * Redistribution and use in source and binary forms, with or without\n",
        " * modification, are permitted provided that the following conditions\n",
        " * are met:\n",
        " *  * Redistributions of source code must retain the above copyright\n",
        " *    notice, this list of conditions and the following disclaimer.\n",
        " *  * Redistributions in binary form must reproduce the above copyright\n",
        " *    notice, this list of conditions and the following disclaimer in the\n",
        " *    documentation and/or other materials provided with the distribution.\n",
        " *  * Neither the name of NVIDIA CORPORATION nor the names of its\n",
        " *    contributors may be used to endorse or promote products derived\n",
        " *    from this software without specific prior written permission.\n",
        " *\n",
        " * THIS SOFTWARE IS PROVIDED BY THE COPYRIGHT HOLDERS AS IS'' AND ANY\n",
        " * EXPRESS OR IMPLIED WARRANTIES, INCLUDING, BUT NOT LIMITED TO, THE\n",
        " * IMPLIED WARRANTIES OF MERCHANTABILITY AND FITNESS FOR A PARTICULAR\n",
        " * PURPOSE ARE DISCLAIMED.  IN NO EVENT SHALL THE COPYRIGHT OWNER OR\n",
        " * CONTRIBUTORS BE LIABLE FOR ANY DIRECT, INDIRECT, INCIDENTAL, SPECIAL,\n",
        " * EXEMPLARY, OR CONSEQUENTIAL DAMAGES (INCLUDING, BUT NOT LIMITED TO,\n",
        " * PROCUREMENT OF SUBSTITUTE GOODS OR SERVICES; LOSS OF USE, DATA, OR\n",
        " * PROFITS; OR BUSINESS INTERRUPTION) HOWEVER CAUSED AND ON ANY THEORY\n",
        " * OF LIABILITY, WHETHER IN CONTRACT, STRICT LIABILITY, OR TORT\n",
        " * (INCLUDING NEGLIGENCE OR OTHERWISE) ARISING IN ANY WAY OUT OF THE USE\n",
        " * OF THIS SOFTWARE, EVEN IF ADVISED OF THE POSSIBILITY OF SUCH DAMAGE.\n",
        " */\n",
        "\n",
        "#include <string.h>\n",
        "#include <stdio.h>\n",
        "#include <stdlib.h>\n",
        "#include <omp.h>\n",
        "#include <math.h>\n",
        "\n",
        "#define OFFSET(x, y, m) (((x)*(m)) + (y))\n",
        "\n",
        "void initialize(double *restrict A, double *restrict Anew, int m, int n)\n",
        "{\n",
        "    memset(A, 0, n * m * sizeof(double));\n",
        "    memset(Anew, 0, n * m * sizeof(double));\n",
        "\n",
        "    for(int i = 0; i < m; i++){\n",
        "        A[i] = 1.0;\n",
        "        Anew[i] = 1.0;\n",
        "    }\n",
        "}\n",
        "\n",
        "double calcNext(double *restrict A, double *restrict Anew, int m, int n)\n",
        "{\n",
        "    double error = 0.0;\n",
        "    #pragma acc parallel loop reduction(max:error) copy(A[:m*n],Anew[:m*n])\n",
        "    for( int j = 1; j < n-1; j++)\n",
        "    {\n",
        "        for( int i = 1; i < m-1; i++ )\n",
        "        {\n",
        "            Anew[OFFSET(j, i, m)] = 0.25 * ( A[OFFSET(j, i+1, m)] + A[OFFSET(j, i-1, m)]\n",
        "                                           + A[OFFSET(j-1, i, m)] + A[OFFSET(j+1, i, m)]);\n",
        "            if (error < fabs(Anew[OFFSET(j, i, m)] - A[OFFSET(j, i , m)]))\n",
        "              error = (fabs(Anew[OFFSET(j, i, m)] - A[OFFSET(j, i , m)]));\n",
        "        }\n",
        "    }\n",
        "    return error;\n",
        "}\n",
        "\n",
        "void swap(double *restrict A, double *restrict Anew, int m, int n)\n",
        "{\n",
        "    #pragma acc parallel loop copy(A[:m*n],Anew[:m*n])\n",
        "    for( int j = 1; j < n-1; j++)\n",
        "    {\n",
        "        for( int i = 1; i < m-1; i++ )\n",
        "        {\n",
        "            A[OFFSET(j, i, m)] = Anew[OFFSET(j, i, m)];\n",
        "        }\n",
        "    }\n",
        "}\n",
        "\n",
        "void deallocate(double *restrict A, double *restrict Anew)\n",
        "{\n",
        "    free(A);\n",
        "    free(Anew);\n",
        "}\n",
        "\n",
        "\n",
        "int main(int argc, char** argv)\n",
        "{\n",
        "\n",
        "    int n, m, iter_max;\n",
        "\n",
        "    if(argc > 1){\n",
        "        n = atoi(argv[1]);\n",
        "    } else {\n",
        "        n = 4096;\n",
        "    }\n",
        "\n",
        "    if(argc > 2){\n",
        "        m = atoi(argv[2]);\n",
        "    } else {\n",
        "        m = 4096;\n",
        "    }\n",
        "\n",
        "    if(argc > 3){\n",
        "        iter_max = atoi(argv[3]);\n",
        "    } else {\n",
        "        iter_max = 1000;\n",
        "    }\n",
        "\n",
        "    const double tol = 1.0e-6;\n",
        "    double error = 1.0;\n",
        "\n",
        "    double *restrict A    = (double*)malloc(sizeof(double)*n*m);\n",
        "    double *restrict Anew = (double*)malloc(sizeof(double)*n*m);\n",
        "\n",
        "    initialize(A, Anew, m, n);\n",
        "\n",
        "    printf(\"Jacobi relaxation Calculation: %d x %d mesh\\n\", n, m);\n",
        "\n",
        "    double st = omp_get_wtime();\n",
        "    int iter = 0;\n",
        "\n",
        "    #pragma acc data copy(A[:n*m]) create(Anew[:n*m])\n",
        "    while ( error > tol && iter < iter_max )\n",
        "    {\n",
        "        error = calcNext(A, Anew, m, n);\n",
        "        swap(A, Anew, m, n);\n",
        "\n",
        "        if(iter % 100 == 0) printf(\"%5d, %0.6f\\n\", iter, error);\n",
        "\n",
        "        iter++;\n",
        "\n",
        "    }\n",
        "\n",
        "    double runtime = omp_get_wtime() - st;\n",
        "\n",
        "    printf(\" total: %f s\\n\", runtime);\n",
        "\n",
        "    deallocate(A, Anew);\n",
        "\n",
        "    return 0;\n",
        "}\n",
        "\n"
      ],
      "metadata": {
        "id": "p_g9wAvSSgn_",
        "outputId": "e51d95a2-24d4-4dde-ed63-68cfd00837fc",
        "colab": {
          "base_uri": "https://localhost:8080/"
        }
      },
      "execution_count": null,
      "outputs": [
        {
          "output_type": "stream",
          "name": "stdout",
          "text": [
            "Overwriting Parallel_Copy.c\n"
          ]
        }
      ]
    },
    {
      "cell_type": "code",
      "source": [
        "!gcc -fopenacc -o parallel_copy_jacobi Parallel_Copy.c"
      ],
      "metadata": {
        "id": "KXN_o-EsSmZt"
      },
      "execution_count": null,
      "outputs": []
    },
    {
      "cell_type": "code",
      "source": [
        "!./parallel_copy_jacobi"
      ],
      "metadata": {
        "id": "03RsHVuHS3c2",
        "outputId": "33474172-39c1-4c74-dde7-55240c4f5825",
        "colab": {
          "base_uri": "https://localhost:8080/"
        }
      },
      "execution_count": null,
      "outputs": [
        {
          "output_type": "stream",
          "name": "stdout",
          "text": [
            "Jacobi relaxation Calculation: 4096 x 4096 mesh\n",
            "    0, 0.250000\n",
            "  100, 0.002397\n",
            "  200, 0.001204\n",
            "  300, 0.000804\n",
            "  400, 0.000603\n",
            "  500, 0.000483\n",
            "  600, 0.000403\n",
            "  700, 0.000345\n",
            "  800, 0.000302\n",
            "  900, 0.000269\n",
            " total: 252.551752 s\n"
          ]
        }
      ]
    },
    {
      "cell_type": "code",
      "source": [
        "%%writefile Parallel_HostCopy.c\n",
        "\n",
        "/* Copyright (c) 2012, NVIDIA CORPORATION. All rights reserved.\n",
        " *\n",
        " * Redistribution and use in source and binary forms, with or without\n",
        " * modification, are permitted provided that the following conditions\n",
        " * are met:\n",
        " *  * Redistributions of source code must retain the above copyright\n",
        " *    notice, this list of conditions and the following disclaimer.\n",
        " *  * Redistributions in binary form must reproduce the above copyright\n",
        " *    notice, this list of conditions and the following disclaimer in the\n",
        " *    documentation and/or other materials provided with the distribution.\n",
        " *  * Neither the name of NVIDIA CORPORATION nor the names of its\n",
        " *    contributors may be used to endorse or promote products derived\n",
        " *    from this software without specific prior written permission.\n",
        " *\n",
        " * THIS SOFTWARE IS PROVIDED BY THE COPYRIGHT HOLDERS AS IS'' AND ANY\n",
        " * EXPRESS OR IMPLIED WARRANTIES, INCLUDING, BUT NOT LIMITED TO, THE\n",
        " * IMPLIED WARRANTIES OF MERCHANTABILITY AND FITNESS FOR A PARTICULAR\n",
        " * PURPOSE ARE DISCLAIMED.  IN NO EVENT SHALL THE COPYRIGHT OWNER OR\n",
        " * CONTRIBUTORS BE LIABLE FOR ANY DIRECT, INDIRECT, INCIDENTAL, SPECIAL,\n",
        " * EXEMPLARY, OR CONSEQUENTIAL DAMAGES (INCLUDING, BUT NOT LIMITED TO,\n",
        " * PROCUREMENT OF SUBSTITUTE GOODS OR SERVICES; LOSS OF USE, DATA, OR\n",
        " * PROFITS; OR BUSINESS INTERRUPTION) HOWEVER CAUSED AND ON ANY THEORY\n",
        " * OF LIABILITY, WHETHER IN CONTRACT, STRICT LIABILITY, OR TORT\n",
        " * (INCLUDING NEGLIGENCE OR OTHERWISE) ARISING IN ANY WAY OUT OF THE USE\n",
        " * OF THIS SOFTWARE, EVEN IF ADVISED OF THE POSSIBILITY OF SUCH DAMAGE.\n",
        " */\n",
        "\n",
        "#include <string.h>\n",
        "#include <stdio.h>\n",
        "#include <stdlib.h>\n",
        "#include <omp.h>\n",
        "#include <math.h>\n",
        "\n",
        "#define OFFSET(x, y, m) (((x)*(m)) + (y))\n",
        "\n",
        "void initialize(double *restrict A, double *restrict Anew, int m, int n)\n",
        "{\n",
        "    memset(A, 0, n * m * sizeof(double));\n",
        "    memset(Anew, 0, n * m * sizeof(double));\n",
        "\n",
        "    for(int i = 0; i < m; i++){\n",
        "        A[i] = 1.0;\n",
        "        Anew[i] = 1.0;\n",
        "    }\n",
        "}\n",
        "\n",
        "double calcNext(double *restrict A, double *restrict Anew, int m, int n)\n",
        "{\n",
        "    double error = 0.0;\n",
        "    #pragma acc parallel loop reduction(max:error) copy(A[:m*n],Anew[:m*n])\n",
        "    for( int j = 1; j < n-1; j++)\n",
        "    {\n",
        "        for( int i = 1; i < m-1; i++ )\n",
        "        {\n",
        "            Anew[OFFSET(j, i, m)] = 0.25 * ( A[OFFSET(j, i+1, m)] + A[OFFSET(j, i-1, m)]\n",
        "                                           + A[OFFSET(j-1, i, m)] + A[OFFSET(j+1, i, m)]);\n",
        "            if (error < fabs(Anew[OFFSET(j, i, m)] - A[OFFSET(j, i , m)]))\n",
        "              error = (fabs(Anew[OFFSET(j, i, m)] - A[OFFSET(j, i , m)]));\n",
        "        }\n",
        "    }\n",
        "    return error;\n",
        "}\n",
        "\n",
        "void swap(double *restrict A, double *restrict Anew, int m, int n)\n",
        "{\n",
        "    #pragma acc parallel loop copy(A[:m*n],Anew[:m*n])\n",
        "    for( int j = 1; j < n-1; j++)\n",
        "    {\n",
        "        for( int i = 1; i < m-1; i++ )\n",
        "        {\n",
        "            A[OFFSET(j, i, m)] = Anew[OFFSET(j, i, m)];\n",
        "        }\n",
        "    }\n",
        "}\n",
        "\n",
        "void deallocate(double *restrict A, double *restrict Anew)\n",
        "{\n",
        "    free(A);\n",
        "    free(Anew);\n",
        "}\n",
        "\n",
        "\n",
        "int main(int argc, char** argv)\n",
        "{\n",
        "\n",
        "    int n, m, iter_max;\n",
        "\n",
        "    if(argc > 1){\n",
        "        n = atoi(argv[1]);\n",
        "    } else {\n",
        "        n = 4096;\n",
        "    }\n",
        "\n",
        "    if(argc > 2){\n",
        "        m = atoi(argv[2]);\n",
        "    } else {\n",
        "        m = 4096;\n",
        "    }\n",
        "\n",
        "    if(argc > 3){\n",
        "        iter_max = atoi(argv[3]);\n",
        "    } else {\n",
        "        iter_max = 1000;\n",
        "    }\n",
        "\n",
        "    const double tol = 1.0e-6;\n",
        "    double error = 1.0;\n",
        "\n",
        "    double *restrict A    = (double*)malloc(sizeof(double)*n*m);\n",
        "    double *restrict Anew = (double*)malloc(sizeof(double)*n*m);\n",
        "\n",
        "    initialize(A, Anew, m, n);\n",
        "\n",
        "    printf(\"Jacobi relaxation Calculation: %d x %d mesh\\n\", n, m);\n",
        "\n",
        "    double st = omp_get_wtime();\n",
        "    int iter = 0;\n",
        "\n",
        "    #pragma acc data copy(A[:n*m]) create(Anew[:n*m])\n",
        "    while ( error > tol && iter < iter_max )\n",
        "    {\n",
        "        error = calcNext(A, Anew, m, n);\n",
        "        swap(A, Anew, m, n);\n",
        "\n",
        "        if(iter % 100 == 0) printf(\"%5d, %0.6f\\n\", iter, error);\n",
        "\n",
        "        iter++;\n",
        "\n",
        "    }\n",
        "\n",
        "    double runtime = omp_get_wtime() - st;\n",
        "\n",
        "    printf(\" total: %f s\\n\", runtime);\n",
        "\n",
        "    deallocate(A, Anew);\n",
        "\n",
        "    return 0;\n",
        "}\n",
        "\n"
      ],
      "metadata": {
        "id": "wXrj71wKS5Z9",
        "outputId": "7c507c23-0c3d-4388-eed7-e03066e0a5dc",
        "colab": {
          "base_uri": "https://localhost:8080/"
        }
      },
      "execution_count": null,
      "outputs": [
        {
          "output_type": "stream",
          "name": "stdout",
          "text": [
            "Writing Parallel_HostCopy.c\n"
          ]
        }
      ]
    },
    {
      "cell_type": "markdown",
      "source": [
        "Do this yourself"
      ],
      "metadata": {
        "id": "WbTK93apUp-U"
      }
    },
    {
      "cell_type": "code",
      "source": [],
      "metadata": {
        "id": "33x1qRppTWYN"
      },
      "execution_count": null,
      "outputs": []
    }
  ],
  "metadata": {
    "accelerator": "GPU",
    "colab": {
      "provenance": [],
      "toc_visible": true,
      "include_colab_link": true
    },
    "kernelspec": {
      "display_name": "Python 3",
      "language": "python",
      "name": "python3"
    },
    "language_info": {
      "codemirror_mode": {
        "name": "ipython",
        "version": 3
      },
      "file_extension": ".py",
      "mimetype": "text/x-python",
      "name": "python",
      "nbconvert_exporter": "python",
      "pygments_lexer": "ipython3",
      "version": "3.8.5"
    }
  },
  "nbformat": 4,
  "nbformat_minor": 0
}