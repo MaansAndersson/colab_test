{
  "nbformat": 4,
  "nbformat_minor": 0,
  "metadata": {
    "colab": {
      "provenance": [],
      "authorship_tag": "ABX9TyOngmZRkloXfrCVftZEsDPP",
      "include_colab_link": true
    },
    "kernelspec": {
      "name": "python3",
      "display_name": "Python 3"
    },
    "language_info": {
      "name": "python"
    }
  },
  "cells": [
    {
      "cell_type": "markdown",
      "metadata": {
        "id": "view-in-github",
        "colab_type": "text"
      },
      "source": [
        "<a href=\"https://colab.research.google.com/github/MaansAndersson/colab_test/blob/main/meep_skeleton.ipynb\" target=\"_parent\"><img src=\"https://colab.research.google.com/assets/colab-badge.svg\" alt=\"Open In Colab\"/></a>"
      ]
    },
    {
      "cell_type": "code",
      "execution_count": 1,
      "metadata": {
        "id": "HtAUl_BvbgT_"
      },
      "outputs": [],
      "source": [
        "# Set up miniconda\n",
        "\n",
        "!MINICONDA_INSTALLER_SCRIPT=Miniconda3-4.5.4-Linux-x86_64.sh #TO DO \n",
        "!MINICONDA_PREFIX=/usr/local\n",
        "!wget https://repo.anaconda.com/miniconda/Miniconda3-4.5.4-Linux-x86_64.sh\n",
        "!chmod +x Miniconda3-4.5.4-Linux-x86_64.sh\n",
        "!./Miniconda3-4.5.4-Linux-x86_64.sh -b -f -p /usr/local\n",
        "\n",
        "# Configure conda\n",
        "!echo \"Conda\"\n",
        "!conda install --channel defaults conda python=3.7 --yes\n",
        "!conda update --channel defaults --all --yes\n",
        "import sys\n",
        "_ = (sys.path\n",
        "        .append(\"/usr/local/lib/python3.7/site-packages\"))\n",
        "\n",
        "# Install MEEP\n",
        "!echo \"MEEP\"\n",
        "!conda install -c \"conda-forge/label/cf202003\" pymeep --yes\n",
        "!conda install -c conda-forge ipython --yes\n",
        "\n",
        "from IPython.display import clear_output\n",
        "clear_output()"
      ]
    },
    {
      "cell_type": "code",
      "source": [
        "import meep as mp\n",
        "import numpy as np\n",
        "import math"
      ],
      "metadata": {
        "id": "hB2ldBmtbhyT"
      },
      "execution_count": null,
      "outputs": []
    },
    {
      "cell_type": "code",
      "source": [
        "mp.vector3()"
      ],
      "metadata": {
        "id": "Aq1QJQdY7x5U",
        "outputId": "3c113306-622b-43b0-afa0-1bd0709ed8a9",
        "colab": {
          "base_uri": "https://localhost:8080/"
        }
      },
      "execution_count": 7,
      "outputs": [
        {
          "output_type": "execute_result",
          "data": {
            "text/plain": [
              "<meep.vector3; proxy of <Swig Object of type 'vector3 *' at 0x7fd8e110b270> >"
            ]
          },
          "metadata": {},
          "execution_count": 7
        }
      ]
    },
    {
      "cell_type": "code",
      "source": [
        "# from mayavi import mlab ## Broken for now. "
      ],
      "metadata": {
        "id": "s08ClGetEUut"
      },
      "execution_count": null,
      "outputs": []
    },
    {
      "cell_type": "code",
      "source": [],
      "metadata": {
        "id": "NGySw49zFjrO"
      },
      "execution_count": null,
      "outputs": []
    }
  ]
}