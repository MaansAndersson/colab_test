{
  "nbformat": 4,
  "nbformat_minor": 0,
  "metadata": {
    "colab": {
      "provenance": [],
      "authorship_tag": "ABX9TyP7j0n81AW9LHvyghTIUtWI",
      "include_colab_link": true
    },
    "kernelspec": {
      "name": "python3",
      "display_name": "Python 3"
    },
    "language_info": {
      "name": "python"
    }
  },
  "cells": [
    {
      "cell_type": "markdown",
      "metadata": {
        "id": "view-in-github",
        "colab_type": "text"
      },
      "source": [
        "<a href=\"https://colab.research.google.com/github/MaansAndersson/colab_test/blob/main/meep_skeleton.ipynb\" target=\"_parent\"><img src=\"https://colab.research.google.com/assets/colab-badge.svg\" alt=\"Open In Colab\"/></a>"
      ]
    },
    {
      "cell_type": "code",
      "execution_count": 1,
      "metadata": {
        "id": "HtAUl_BvbgT_"
      },
      "outputs": [],
      "source": [
        "# Set up miniconda\n",
        "!echo $PYTHONPATH\n",
        "!export PYTHONPATH=$PYTHONPATH:/usr/local/lib/python3.10\n",
        "\n",
        "!wget https://repo.anaconda.com/miniconda/Miniconda3-py310_23.9.0-0-Linux-x86_64.sh\n",
        "!chmod +x Miniconda3-py310_23.9.0-0-Linux-x86_64.sh\n",
        "!bash Miniconda3-py310_23.9.0-0-Linux-x86_64.sh -b -u -f -p /usr/local\n",
        "!echo \"update miniconda\"\n",
        "!conda update --channel defaults --all --yes\n",
        "!echo \"install MEEP\"\n",
        "!conda install -y -c chogan -c conda-forge pymeep --yes\n",
        "import sys\n",
        "sys.path.append('/usr/local/lib/python3.10/site-packages/')\n",
        "\n",
        "\n",
        "\n",
        "from IPython.display import clear_output\n",
        "clear_output()"
      ]
    },
    {
      "cell_type": "code",
      "source": [
        "!echo $PYTHONPATH\n"
      ],
      "metadata": {
        "colab": {
          "base_uri": "https://localhost:8080/"
        },
        "id": "KVF_FEUMTGaZ",
        "outputId": "fd2af36c-fcc9-412b-d180-becd3c3c8cfb"
      },
      "execution_count": 2,
      "outputs": [
        {
          "output_type": "stream",
          "name": "stdout",
          "text": [
            "/env/python\n"
          ]
        }
      ]
    },
    {
      "cell_type": "code",
      "source": [
        "import numpy as np\n",
        "import math\n",
        "import meep as mp"
      ],
      "metadata": {
        "id": "hB2ldBmtbhyT"
      },
      "execution_count": 3,
      "outputs": []
    },
    {
      "cell_type": "code",
      "source": [
        "mp.vector3()"
      ],
      "metadata": {
        "id": "Aq1QJQdY7x5U",
        "outputId": "95902d28-0c56-4141-cce4-498a58ef6106",
        "colab": {
          "base_uri": "https://localhost:8080/"
        }
      },
      "execution_count": 4,
      "outputs": [
        {
          "output_type": "execute_result",
          "data": {
            "text/plain": [
              "<meep.vector3; proxy of <Swig Object of type 'vector3 *' at 0x7b03269041e0> >"
            ]
          },
          "metadata": {},
          "execution_count": 4
        }
      ]
    },
    {
      "cell_type": "code",
      "source": [
        "# from mayavi import mlab ## Broken for now."
      ],
      "metadata": {
        "id": "s08ClGetEUut"
      },
      "execution_count": 5,
      "outputs": []
    },
    {
      "cell_type": "code",
      "source": [],
      "metadata": {
        "id": "x7BBt5DeNmGS"
      },
      "execution_count": 5,
      "outputs": []
    }
  ]
}